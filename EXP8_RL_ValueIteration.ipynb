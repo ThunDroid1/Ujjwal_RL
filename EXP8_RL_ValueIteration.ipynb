{
  "nbformat": 4,
  "nbformat_minor": 0,
  "metadata": {
    "colab": {
      "provenance": [],
      "authorship_tag": "ABX9TyOhZ6GOt1N6ojSbo4Xi/Is4",
      "include_colab_link": true
    },
    "kernelspec": {
      "name": "python3",
      "display_name": "Python 3"
    },
    "language_info": {
      "name": "python"
    }
  },
  "cells": [
    {
      "cell_type": "markdown",
      "metadata": {
        "id": "view-in-github",
        "colab_type": "text"
      },
      "source": [
        "<a href=\"https://colab.research.google.com/github/ThunDroid1/Ujjwal_RL/blob/main/EXP8_RL_ValueIteration.ipynb\" target=\"_parent\"><img src=\"https://colab.research.google.com/assets/colab-badge.svg\" alt=\"Open In Colab\"/></a>"
      ]
    },
    {
      "cell_type": "code",
      "execution_count": null,
      "metadata": {
        "id": "BkAUsPZH9SY5"
      },
      "outputs": [],
      "source": [
        "import numpy as np"
      ]
    },
    {
      "cell_type": "code",
      "source": [
        "P = np.array([\n",
        "    [[0.1, 0.9], [0.8, 0.2]],\n",
        "    [[0.6, 0.4], [0.1, 0.9]],\n",
        "    [[0.2, 0.8], [0.6, 0.4]],\n",
        "    [[0.8, 0.2], [0.9, 0.1]]\n",
        "])\n",
        "\n",
        "R = np.array([[10, -1], [-1, 10], [-1, 10], [-1, 10]])\n",
        "\n",
        "gamma = 0.9"
      ],
      "metadata": {
        "id": "jm1lKmny9V39"
      },
      "execution_count": null,
      "outputs": []
    },
    {
      "cell_type": "code",
      "source": [
        "def value_iteration(P, nS, nA, gamma=0.9):\n",
        "    V = np.zeros(nS)\n",
        "    epsilon = 1e-20\n",
        "\n",
        "    while True:\n",
        "        delta = 0\n",
        "        for s in range(nS):\n",
        "            v = V[s]\n",
        "            V[s] = np.max(np.sum(P[s][a][s] * (r + gamma * V[s]) for a, r in enumerate(R[s])) for s in range(nS))\n",
        "            delta = max(delta, abs(v - V[s]))\n",
        "        if delta < epsilon:\n",
        "            break\n",
        "\n",
        "    policy = np.zeros((nS, nA), dtype=int)\n",
        "    for s in range(nS):\n",
        "        a = np.argmax(np.sum(P[s][a][s] * (r + gamma * V[s]) for a, r in enumerate(R[s])) for s in range(nS))\n",
        "        policy[s] = a\n",
        "\n",
        "    return policy, V"
      ],
      "metadata": {
        "id": "tBqAFZbe9cLt"
      },
      "execution_count": null,
      "outputs": []
    },
    {
      "cell_type": "code",
      "source": [
        "nS = 4  # number of states\n",
        "nA = 2  # number of actions\n",
        "\n",
        "P = np.random.rand(nS, nA, nS)\n",
        "R = np.random.rand(nS, nA)\n",
        "\n",
        "policy, V = value_iteration(P, nS, nA)\n",
        "\n",
        "print(\"Policy:\")\n",
        "print(policy)\n",
        "print(\"State Value Function:\")\n",
        "print(V)\n"
      ],
      "metadata": {
        "colab": {
          "base_uri": "https://localhost:8080/",
          "height": 366
        },
        "id": "H2KG1dft9ecE",
        "outputId": "1fff1662-1874-49a7-a0d6-b002e72e034a"
      },
      "execution_count": null,
      "outputs": [
        {
          "output_type": "error",
          "ename": "TypeError",
          "evalue": "ignored",
          "traceback": [
            "\u001b[0;31m---------------------------------------------------------------------------\u001b[0m",
            "\u001b[0;31mTypeError\u001b[0m                                 Traceback (most recent call last)",
            "\u001b[0;32m<ipython-input-13-f34b1078b67d>\u001b[0m in \u001b[0;36m<cell line: 7>\u001b[0;34m()\u001b[0m\n\u001b[1;32m      5\u001b[0m \u001b[0mR\u001b[0m \u001b[0;34m=\u001b[0m \u001b[0mnp\u001b[0m\u001b[0;34m.\u001b[0m\u001b[0mrandom\u001b[0m\u001b[0;34m.\u001b[0m\u001b[0mrand\u001b[0m\u001b[0;34m(\u001b[0m\u001b[0mnS\u001b[0m\u001b[0;34m,\u001b[0m \u001b[0mnA\u001b[0m\u001b[0;34m)\u001b[0m\u001b[0;34m\u001b[0m\u001b[0;34m\u001b[0m\u001b[0m\n\u001b[1;32m      6\u001b[0m \u001b[0;34m\u001b[0m\u001b[0m\n\u001b[0;32m----> 7\u001b[0;31m \u001b[0mpolicy\u001b[0m\u001b[0;34m,\u001b[0m \u001b[0mV\u001b[0m \u001b[0;34m=\u001b[0m \u001b[0mvalue_iteration\u001b[0m\u001b[0;34m(\u001b[0m\u001b[0mP\u001b[0m\u001b[0;34m,\u001b[0m \u001b[0mnS\u001b[0m\u001b[0;34m,\u001b[0m \u001b[0mnA\u001b[0m\u001b[0;34m)\u001b[0m\u001b[0;34m\u001b[0m\u001b[0;34m\u001b[0m\u001b[0m\n\u001b[0m\u001b[1;32m      8\u001b[0m \u001b[0;34m\u001b[0m\u001b[0m\n\u001b[1;32m      9\u001b[0m \u001b[0mprint\u001b[0m\u001b[0;34m(\u001b[0m\u001b[0;34m\"Policy:\"\u001b[0m\u001b[0;34m)\u001b[0m\u001b[0;34m\u001b[0m\u001b[0;34m\u001b[0m\u001b[0m\n",
            "\u001b[0;32m<ipython-input-12-cf09a23faa42>\u001b[0m in \u001b[0;36mvalue_iteration\u001b[0;34m(P, nS, nA, gamma)\u001b[0m\n\u001b[1;32m      7\u001b[0m         \u001b[0;32mfor\u001b[0m \u001b[0ms\u001b[0m \u001b[0;32min\u001b[0m \u001b[0mrange\u001b[0m\u001b[0;34m(\u001b[0m\u001b[0mnS\u001b[0m\u001b[0;34m)\u001b[0m\u001b[0;34m:\u001b[0m\u001b[0;34m\u001b[0m\u001b[0;34m\u001b[0m\u001b[0m\n\u001b[1;32m      8\u001b[0m             \u001b[0mv\u001b[0m \u001b[0;34m=\u001b[0m \u001b[0mV\u001b[0m\u001b[0;34m[\u001b[0m\u001b[0ms\u001b[0m\u001b[0;34m]\u001b[0m\u001b[0;34m\u001b[0m\u001b[0;34m\u001b[0m\u001b[0m\n\u001b[0;32m----> 9\u001b[0;31m             \u001b[0mV\u001b[0m\u001b[0;34m[\u001b[0m\u001b[0ms\u001b[0m\u001b[0;34m]\u001b[0m \u001b[0;34m=\u001b[0m \u001b[0mnp\u001b[0m\u001b[0;34m.\u001b[0m\u001b[0mmax\u001b[0m\u001b[0;34m(\u001b[0m\u001b[0mnp\u001b[0m\u001b[0;34m.\u001b[0m\u001b[0msum\u001b[0m\u001b[0;34m(\u001b[0m\u001b[0mP\u001b[0m\u001b[0;34m[\u001b[0m\u001b[0ms\u001b[0m\u001b[0;34m]\u001b[0m\u001b[0;34m[\u001b[0m\u001b[0ma\u001b[0m\u001b[0;34m]\u001b[0m\u001b[0;34m[\u001b[0m\u001b[0ms\u001b[0m\u001b[0;34m]\u001b[0m \u001b[0;34m*\u001b[0m \u001b[0;34m(\u001b[0m\u001b[0mr\u001b[0m \u001b[0;34m+\u001b[0m \u001b[0mgamma\u001b[0m \u001b[0;34m*\u001b[0m \u001b[0mV\u001b[0m\u001b[0;34m[\u001b[0m\u001b[0ms\u001b[0m\u001b[0;34m]\u001b[0m\u001b[0;34m)\u001b[0m \u001b[0;32mfor\u001b[0m \u001b[0ma\u001b[0m\u001b[0;34m,\u001b[0m \u001b[0mr\u001b[0m \u001b[0;32min\u001b[0m \u001b[0menumerate\u001b[0m\u001b[0;34m(\u001b[0m\u001b[0mR\u001b[0m\u001b[0;34m[\u001b[0m\u001b[0ms\u001b[0m\u001b[0;34m]\u001b[0m\u001b[0;34m)\u001b[0m\u001b[0;34m)\u001b[0m \u001b[0;32mfor\u001b[0m \u001b[0ms\u001b[0m \u001b[0;32min\u001b[0m \u001b[0mrange\u001b[0m\u001b[0;34m(\u001b[0m\u001b[0mnS\u001b[0m\u001b[0;34m)\u001b[0m\u001b[0;34m)\u001b[0m\u001b[0;34m\u001b[0m\u001b[0;34m\u001b[0m\u001b[0m\n\u001b[0m\u001b[1;32m     10\u001b[0m             \u001b[0mdelta\u001b[0m \u001b[0;34m=\u001b[0m \u001b[0mmax\u001b[0m\u001b[0;34m(\u001b[0m\u001b[0mdelta\u001b[0m\u001b[0;34m,\u001b[0m \u001b[0mabs\u001b[0m\u001b[0;34m(\u001b[0m\u001b[0mv\u001b[0m \u001b[0;34m-\u001b[0m \u001b[0mV\u001b[0m\u001b[0;34m[\u001b[0m\u001b[0ms\u001b[0m\u001b[0;34m]\u001b[0m\u001b[0;34m)\u001b[0m\u001b[0;34m)\u001b[0m\u001b[0;34m\u001b[0m\u001b[0;34m\u001b[0m\u001b[0m\n\u001b[1;32m     11\u001b[0m         \u001b[0;32mif\u001b[0m \u001b[0mdelta\u001b[0m \u001b[0;34m<\u001b[0m \u001b[0mepsilon\u001b[0m\u001b[0;34m:\u001b[0m\u001b[0;34m\u001b[0m\u001b[0;34m\u001b[0m\u001b[0m\n",
            "\u001b[0;31mTypeError\u001b[0m: float() argument must be a string or a real number, not 'generator'"
          ]
        }
      ]
    },
    {
      "cell_type": "code",
      "source": [
        "import numpy as np\n",
        "\n",
        "def value_iteration(P, nS, nA, gamma=0.9, epsilon=1e-6):\n",
        "    V = np.zeros(nS)\n",
        "    policy = np.zeros(nS, dtype=int)\n",
        "\n",
        "    while True:\n",
        "        delta = 0\n",
        "        for s in range(nS):\n",
        "            v = V[s]\n",
        "            Q_values = [np.sum(P[s][a][s] * (r + gamma * V[s]) for a, r in enumerate(R[s])) for s in range(nS)]\n",
        "            V[s] = np.max(Q_values)\n",
        "            policy[s] = np.argmax(Q_values)\n",
        "            delta = max(delta, abs(v - V[s]))\n",
        "\n",
        "        if delta < epsilon:\n",
        "            break\n",
        "\n",
        "    return policy, V\n",
        "\n",
        "P = np.random.rand(nS, nA, nS)\n",
        "R = np.random.rand(nS, nA)\n",
        "\n",
        "nS = 4  # number of states\n",
        "nA = 2  # number of actions\n",
        "\n",
        "policy, V = value_iteration(P, nS, nA)\n",
        "\n",
        "print(\"Policy:\")\n",
        "print(policy)\n",
        "print(\"State Value Function:\")\n",
        "print(V)\n"
      ],
      "metadata": {
        "colab": {
          "base_uri": "https://localhost:8080/"
        },
        "id": "lV7g3WGl98ZB",
        "outputId": "6240915c-28b1-4dfa-9012-968a8c12b9b9"
      },
      "execution_count": null,
      "outputs": [
        {
          "output_type": "stream",
          "name": "stdout",
          "text": [
            "Policy:\n",
            "[1 1 1 1]\n",
            "State Value Function:\n",
            "[34.31207842 34.31207842 34.31207938 34.31207938]\n"
          ]
        },
        {
          "output_type": "stream",
          "name": "stderr",
          "text": [
            "<ipython-input-5-5c2815a1d7b0>:12: DeprecationWarning: Calling np.sum(generator) is deprecated, and in the future will give a different result. Use np.sum(np.fromiter(generator)) or the python sum builtin instead.\n",
            "  Q_values = [np.sum(P[s][a][s] * (r + gamma * V[s]) for a, r in enumerate(R[s])) for s in range(nS)]\n"
          ]
        }
      ]
    },
    {
      "cell_type": "code",
      "source": [
        "import numpy as np\n",
        "\n",
        "def value_iteration(P, nS, nA, gamma=0.9, epsilon=1e-6):\n",
        "    V = np.zeros(nS)\n",
        "    policy = np.zeros(nS, dtype=int)\n",
        "\n",
        "    while True:\n",
        "        delta = 0\n",
        "        for s in range(nS):\n",
        "            v = V[s]\n",
        "            # Fix the naming conflict by using a different variable for the inner loop\n",
        "            Q_values = [np.sum(P[s][a][s_prime] * (r + gamma * V[s_prime]) for a, r in enumerate(R[s_prime])) for s_prime in range(nS)]\n",
        "            V[s] = np.max(Q_values)\n",
        "            policy[s] = np.argmax(Q_values)\n",
        "            delta = max(delta, abs(v - V[s]))\n",
        "\n",
        "        if delta < epsilon:\n",
        "            break\n",
        "\n",
        "    return policy, V\n",
        "\n",
        "# Define the number of states and actions before using them\n",
        "nS = 4  # number of states\n",
        "nA = 2  # number of actions\n",
        "\n",
        "# Example usage:\n",
        "# Assuming you have P and R defined somewhere before calling the function\n",
        "P = np.random.rand(nS, nA, nS)\n",
        "R = np.random.rand(nS, nA)\n",
        "\n",
        "policy, V = value_iteration(P, nS, nA)\n",
        "\n",
        "print(\"Policy:\")\n",
        "print(policy)\n",
        "print(\"State Value Function:\")\n",
        "print(V)\n"
      ],
      "metadata": {
        "id": "rAal6pcGDVNQ",
        "outputId": "29c1ca0b-61ba-452c-cdd2-6ec431719a40",
        "colab": {
          "base_uri": "https://localhost:8080/"
        }
      },
      "execution_count": null,
      "outputs": [
        {
          "output_type": "stream",
          "name": "stdout",
          "text": [
            "Policy:\n",
            "[0 0 0 0]\n",
            "State Value Function:\n",
            "[inf inf inf inf]\n"
          ]
        },
        {
          "output_type": "stream",
          "name": "stderr",
          "text": [
            "<ipython-input-15-c423702ba4b6>:12: DeprecationWarning: Calling np.sum(generator) is deprecated, and in the future will give a different result. Use np.sum(np.fromiter(generator)) or the python sum builtin instead.\n",
            "  Q_values = [np.sum(P[s][a][s_prime] * (r + gamma * V[s_prime]) for a, r in enumerate(R[s_prime])) for s_prime in range(nS)]\n",
            "/usr/local/lib/python3.10/dist-packages/numpy/core/fromnumeric.py:2292: RuntimeWarning: overflow encountered in double_scalars\n",
            "  res = _sum_(a)\n",
            "<ipython-input-15-c423702ba4b6>:15: RuntimeWarning: invalid value encountered in double_scalars\n",
            "  delta = max(delta, abs(v - V[s]))\n"
          ]
        }
      ]
    }
  ]
}